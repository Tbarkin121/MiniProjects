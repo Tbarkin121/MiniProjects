{
 "cells": [
  {
   "cell_type": "markdown",
   "id": "2d9301e5-b51f-4010-8229-f043ff675007",
   "metadata": {
    "tags": []
   },
   "source": [
    "https://www.youtube.com/watch?v=Hg77r10q7GE&ab_channel=EngineeringMadeEasy"
   ]
  },
  {
   "cell_type": "code",
   "execution_count": 1,
   "id": "0307e5c0-3717-41b4-a718-1b41f1ebd6c8",
   "metadata": {},
   "outputs": [],
   "source": [
    "import torch\n",
    "import numpy as np\n",
    "import matplotlib.pyplot as plt\n",
    "import pandas as pd"
   ]
  },
  {
   "cell_type": "code",
   "execution_count": 136,
   "id": "99e5868f-e404-456b-8d5e-692f7f50dfa1",
   "metadata": {},
   "outputs": [],
   "source": [
    "dt = torch.tensor(0.01)\n",
    "t0 = torch.tensor(0.0)\n",
    "tf = torch.tensor(3.0)\n",
    "t = torch.arange(t0,tf,dt)\n"
   ]
  },
  {
   "cell_type": "markdown",
   "id": "220ddcd2-1cc9-424e-821d-214c2dc2eb87",
   "metadata": {},
   "source": [
    "y = exp(4*t) "
   ]
  },
  {
   "cell_type": "code",
   "execution_count": 169,
   "id": "04d69198-774f-45be-8f2c-26d407ac8d51",
   "metadata": {
    "tags": []
   },
   "outputs": [
    {
     "data": {
      "text/plain": [
       "<matplotlib.legend.Legend at 0x7f0501a0ccd0>"
      ]
     },
     "execution_count": 169,
     "metadata": {},
     "output_type": "execute_result"
    },
    {
     "data": {
      "image/png": "[encoded data removed]",
      "text/plain": [
       "<Figure size 432x288 with 1 Axes>"
      ]
     },
     "metadata": {
      "needs_background": "light"
     },
     "output_type": "display_data"
    }
   ],
   "source": [
    "A = torch.tensor( ((1, dt*4-1), (1.0, 0.0)) ) \n",
    "\n",
    "log_y = []\n",
    "log_y_exact = []\n",
    "y_in = torch.tensor( (1.0,) )\n",
    "for i in range(len(t)-1):\n",
    "    # print(y_in)\n",
    "    log_y.append(y_in.clone().item())\n",
    "    \n",
    "    B = torch.tensor( ((0.0, ), (y_in.item(), )) )\n",
    "    X = torch.linalg.solve(A,B)\n",
    "    y_in = X[1]\n",
    "    \n",
    "    y_exact = torch.exp(4*t[i])\n",
    "    log_y_exact.append(y_exact)\n",
    "    \n",
    "    # print('Frame')\n",
    "    # print(A)\n",
    "    # print(B)\n",
    "    # print(X)\n",
    "    # print()\n",
    "    # break\n",
    "    \n",
    "fig, ax = plt.subplots()\n",
    "ax.plot(t[0:-1], log_y)\n",
    "ax.plot(t[0:-1], log_y_exact)\n",
    "ax.grid(True)\n",
    "ax.set_ylim([0,2.5e5])\n",
    "ax.set_xlim([0, 3])\n",
    "\n",
    "ax.legend(['Y Est','Y Exact'], loc='upper left')\n",
    "\n"
   ]
  }
 ],
 "metadata": {
  "kernelspec": {
   "display_name": "Python 3",
   "language": "python",
   "name": "python3"
  },
  "language_info": {
   "codemirror_mode": {
    "name": "ipython",
    "version": 3
   },
   "file_extension": ".py",
   "mimetype": "text/x-python",
   "name": "python",
   "nbconvert_exporter": "python",
   "pygments_lexer": "ipython3",
   "version": "3.8.8"
  }
 },
 "nbformat": 4,
 "nbformat_minor": 5
}
