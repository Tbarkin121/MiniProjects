{
 "cells": [
  {
   "cell_type": "code",
   "execution_count": 2,
   "id": "32aaf8c6-55fb-47ad-bc7f-b8e65aa77a91",
   "metadata": {},
   "outputs": [],
   "source": [
    "import torch\n",
    "import numpy as np\n",
    "import matplotlib.pyplot as plt\n",
    "import pandas as pd"
   ]
  },
  {
   "cell_type": "code",
   "execution_count": 3,
   "id": "72880e5f-4b33-4142-a596-65fbb93137cb",
   "metadata": {},
   "outputs": [],
   "source": [
    "dt = torch.tensor(0.01)\n",
    "t0 = torch.tensor(0.0)\n",
    "tf = torch.tensor(3.0)\n",
    "t = torch.arange(t0,tf,dt)\n"
   ]
  },
  {
   "cell_type": "code",
   "execution_count": 10,
   "id": "06262c6a-84ea-4812-9881-9423aa0a4c83",
   "metadata": {},
   "outputs": [
    {
     "data": {
      "text/plain": [
       "<matplotlib.legend.Legend at 0x7f800079ffd0>"
      ]
     },
     "execution_count": 10,
     "metadata": {},
     "output_type": "execute_result"
    },
    {
     "data": {
      "image/png": "[encoded data removed]",
      "text/plain": [
       "<Figure size 432x288 with 1 Axes>"
      ]
     },
     "metadata": {
      "needs_background": "light"
     },
     "output_type": "display_data"
    }
   ],
   "source": [
    "A = torch.tensor( ((1.0, 0.0, 0.0), (4.0, -1.0, 0.0), (4.0, dt/2.0, dt/2.0-1.0)) ) \n",
    "\n",
    "log_y = []\n",
    "log_y_exact = []\n",
    "y_in = torch.tensor( (1.0,) )\n",
    "for i in range(len(t)-1):\n",
    "    # print(y_in)\n",
    "    log_y.append(y_in.clone().item())\n",
    "    \n",
    "    B = torch.tensor( ((y_in.item(), ), (0.0, ), (0.0, )) )\n",
    "    X = torch.linalg.solve(A,B)\n",
    "    y_in = X[0] + dt/2.0*(X[1]+X[2])\n",
    "    \n",
    "    y_exact = torch.exp(4*t[i])\n",
    "    log_y_exact.append(y_exact)\n",
    "    \n",
    "    # print('Frame')\n",
    "    # print(A)\n",
    "    # print(B)\n",
    "    # print(X)\n",
    "    # print()\n",
    "    # break\n",
    "    \n",
    "fig, ax = plt.subplots()\n",
    "ax.plot(t[0:-1], log_y)\n",
    "ax.plot(t[0:-1], log_y_exact)\n",
    "ax.grid(True)\n",
    "ax.set_ylim([0,2.5e5])\n",
    "ax.set_xlim([0, 3])\n",
    "\n",
    "ax.legend(['Y Est','Y Exact'], loc='upper left')\n",
    "\n"
   ]
  },
  {
   "cell_type": "code",
   "execution_count": null,
   "id": "0b12d1eb-fc4e-4e1d-a785-f701254bc9d0",
   "metadata": {},
   "outputs": [],
   "source": []
  }
 ],
 "metadata": {
  "kernelspec": {
   "display_name": "Python 3 (ipykernel)",
   "language": "python",
   "name": "python3"
  },
  "language_info": {
   "codemirror_mode": {
    "name": "ipython",
    "version": 3
   },
   "file_extension": ".py",
   "mimetype": "text/x-python",
   "name": "python",
   "nbconvert_exporter": "python",
   "pygments_lexer": "ipython3",
   "version": "3.8.12"
  }
 },
 "nbformat": 4,
 "nbformat_minor": 5
}
