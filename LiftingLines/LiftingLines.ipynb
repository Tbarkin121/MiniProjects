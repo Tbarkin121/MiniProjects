{
 "cells": [
  {
   "cell_type": "code",
   "execution_count": 2,
   "id": "356f435f-e731-4201-924a-8e2360977b1c",
   "metadata": {},
   "outputs": [
    {
     "name": "stdout",
     "output_type": "stream",
     "text": [
      "Using cuda device\n"
     ]
    }
   ],
   "source": [
    "import torch\n",
    "import torch.nn as nn\n",
    "import torch.nn.functional as F\n",
    "\n",
    "import matplotlib.pyplot as plt\n",
    "import numpy as np\n",
    "# Get cpu or gpu device for training.\n",
    "device = \"cuda\" if torch.cuda.is_available() else \"cpu\"\n",
    "print(f\"Using {device} device\")\n"
   ]
  },
  {
   "cell_type": "code",
   "execution_count": null,
   "id": "98607391-86dc-4bf0-8fdf-90f38c220acb",
   "metadata": {},
   "outputs": [],
   "source": [
    "N = 20\n",
    "rho = 1.225 #kg/m³\n",
    "dy=2/(N-1)\n",
    "Clalpha = 1\n",
    "s = 1\n",
    "Vinf = 1\n",
    "# Rectangular Wing\n",
    "c = torch.linspace(0.1, 0.2, N) \n",
    "eps = 1e-7\n",
    "alpha = 5 * 3.1415/180\n",
    "\n",
    "A = torch.zeros((N, N))\n",
    "B = torch.zeros((N, 1))\n",
    "M = torch.zeros((N, N))\n",
    "W = torch.zeros((N, N))\n",
    "\n",
    "\n",
    "theta=torch.zeros((N))\n",
    "\n",
    "y = torch.linspace(-1+eps, 1-eps, N) \n",
    "theta = torch.acos(y/s)\n",
    "\n",
    "for n in range(1, N+1):  \n",
    "  for m in range(N):\n",
    "    A[m, n-1] = torch.sin(n*theta[m]) * (torch.sin(theta[m]) + n*Clalpha*c[m]/(8*s))\n",
    "    M[m, n-1] = torch.sin(n*theta[m])\n",
    "    W[m, n-1] = n*torch.sin(n*theta[m]) / torch.sin(theta[m])\n",
    "  \n",
    "\n",
    "  B[n-1] = torch.sin(theta[n-1]) * Clalpha*c[n-1]/(8*s) * (alpha)\n",
    "  \n",
    "\n",
    "\n",
    "M *= 4*s*Vinf\n",
    "print('A')\n",
    "print(A.shape)\n",
    "print(A)\n",
    "print('B')\n",
    "print(B.shape)\n",
    "print(B)\n",
    "x = torch.linalg.solve(A, B)\n",
    "print('x')\n",
    "print(x.shape)\n",
    "print(x)\n",
    "\n",
    "gamma = torch.mm(M,x)\n",
    "\n",
    "alpha_i = torch.mm(W,x)\n",
    "D_i = rho*Vinf*torch.sum(gamma*alpha_i*dy)\n",
    "\n",
    "print('gamma')\n",
    "print(gamma.shape)\n",
    "print(gamma)\n",
    "\n",
    "plt.plot(y, gamma)\n",
    "plt.grid(True)\n",
    "plt.show()\n",
    "\n",
    "plt.plot(y, alpha_i)\n",
    "plt.grid(True)\n",
    "plt.show()\n",
    "\n",
    "print('D_i = {}'.format(D_i))\n",
    "\n",
    "Lift = rho*Vinf*torch.sum(torch.squeeze(gamma * dy), dim=0)\n",
    "print(Lift)"
   ]
  },
  {
   "cell_type": "code",
   "execution_count": 3,
   "id": "abd45c8b-7d40-440f-90b3-e41a61da236c",
   "metadata": {},
   "outputs": [
    {
     "name": "stdout",
     "output_type": "stream",
     "text": [
      "tensor([[2.4684e-06],\n",
      "        [4.7913e-04],\n",
      "        [4.9913e-04],\n",
      "        [5.2493e-04],\n",
      "        [5.4962e-04],\n",
      "        [5.7394e-04],\n",
      "        [5.9799e-04],\n",
      "        [6.2183e-04],\n",
      "        [6.4549e-04],\n",
      "        [6.6898e-04],\n",
      "        [6.9226e-04],\n",
      "        [7.1529e-04],\n",
      "        [7.3798e-04],\n",
      "        [7.6019e-04],\n",
      "        [7.8166e-04],\n",
      "        [8.0189e-04],\n",
      "        [8.1981e-04],\n",
      "        [8.3199e-04],\n",
      "        [8.3439e-04],\n",
      "        [2.8819e-06]])\n"
     ]
    }
   ],
   "source": [
    "print(gamma * dy)"
   ]
  },
  {
   "cell_type": "code",
   "execution_count": 4,
   "id": "95c75ee7-7fc7-4fbb-8795-4760d62ea4a9",
   "metadata": {},
   "outputs": [],
   "source": [
    "wind_vector = [1, 0, 0]\n",
    "wing_vecotr = [1, 0, 0]"
   ]
  },
  {
   "cell_type": "code",
   "execution_count": 5,
   "id": "150a0689-71bb-49a1-b0e8-c307855d2e8a",
   "metadata": {},
   "outputs": [
    {
     "name": "stdout",
     "output_type": "stream",
     "text": [
      "dt 0.2697367589989881\n",
      "dt 0.0001826919997256482\n",
      "dt 0.11928588999944623\n",
      "dt 0.0011261359995842213\n",
      "dt 0.011539105000338168\n"
     ]
    }
   ],
   "source": [
    "import time\n",
    "k=5\n",
    "n=20\n",
    "M=[1e1, 1e2, 1e3, 1e4, 1e5]\n",
    "\n",
    "for m in M:\n",
    "  A = torch.rand((k,n,n))\n",
    "  B = torch.rand((k,n,int(m)))\n",
    "  now = time.perf_counter()\n",
    "  x = torch.linalg.solve(A,B)\n",
    "  dt = time.perf_counter() - now\n",
    "  print('dt {}'.format(dt))\n"
   ]
  },
  {
   "cell_type": "code",
   "execution_count": 6,
   "id": "c51d2d0d-61af-4dcf-863b-de40a2e28af9",
   "metadata": {},
   "outputs": [
    {
     "name": "stdout",
     "output_type": "stream",
     "text": [
      "Static Wind Vector init\n",
      "Wind Vectors\n",
      "tensor([[ 1.7147,  1.5284,  1.4752],\n",
      "        [ 1.2089, -0.1881, -1.2198],\n",
      "        [-1.1253, -1.8506, -0.7930],\n",
      "        [-1.6958,  0.0656,  0.4949],\n",
      "        [ 0.9327, -0.0210,  1.6416]])\n",
      "Wind Mags\n",
      "tensor([[2.7299],\n",
      "        [1.7276],\n",
      "        [2.3064],\n",
      "        [1.7678],\n",
      "        [1.8881]])\n",
      "Wind Dirs\n",
      "tensor([[ 0.6281,  0.5599,  0.5404],\n",
      "        [ 0.6997, -0.1089, -0.7061],\n",
      "        [-0.4879, -0.8024, -0.3438],\n",
      "        [-0.9593,  0.0371,  0.2800],\n",
      "        [ 0.4940, -0.0111,  0.8694]])\n",
      " init\n",
      " init\n",
      " init\n"
     ]
    },
    {
     "data": {
      "text/plain": [
       "<__main__.LearningToFly at 0x7f097c6e6880>"
      ]
     },
     "execution_count": 6,
     "metadata": {},
     "output_type": "execute_result"
    }
   ],
   "source": [
    "import torch\n",
    "import torch.nn as nn\n",
    "import torch.nn.functional as F\n",
    "\n",
    "class LearningToFly:\n",
    "  def __init__(self, env,\n",
    "                     aircraft,\n",
    "                     name='' ):\n",
    "      self.name = name\n",
    "      self.env = env\n",
    "      self.airfoil_list = airfoil_list\n",
    "      print('{} init'.format(self.name))\n",
    "\n",
    "  def Step(self):\n",
    "    pass\n",
    "\n",
    "class Env:\n",
    "  def __init__(self, name='', \n",
    "                     num_envs = 1, \n",
    "                     rand_wind = False, \n",
    "                     default_wind_vector = torch.zeros(3),\n",
    "                     max_speed=1):\n",
    "    self.name = name\n",
    "    self.num_envs = num_envs\n",
    "    self.wind_vector = torch.zeros(self.num_envs, 3)\n",
    "    self.max_speed = max_speed\n",
    "    if(rand_wind):\n",
    "      self.wind_vector.uniform_(-self.max_speed, self.max_speed)\n",
    "    else:\n",
    "      self.wind_vector = default_wind_vector.repeat(self.num_envs,1)\n",
    "    \n",
    "    self.wind_mag = torch.norm(self.wind_vector, dim=1).view(5,1)\n",
    "    self.wind_dir = self.wind_vector/self.wind_mag\n",
    "      \n",
    "    print('{} init'.format(self.name))\n",
    "\n",
    "  def print_state(self):\n",
    "    print('Wind Vectors')\n",
    "    print(self.wind_vector)\n",
    "    print('Wind Mags')\n",
    "    print(self.wind_mag)\n",
    "    print('Wind Dirs')\n",
    "    print(self.wind_dir)\n",
    "\n",
    "class AirFoil:\n",
    "  def __init__(self, name=''):\n",
    "    self.name = name\n",
    "    print('{} init'.format(self.name))\n",
    "\n",
    "class Aircraft:\n",
    "  def __init__(self, name='', airfoil_list = []):\n",
    "    self.name = name\n",
    "    self.airfoil_list = airfoil_list\n",
    "    self.mass=1\n",
    "    self.vel = torch.zeros( (0,0,0) )\n",
    "    print('{} init'.format(self.name))\n",
    "\n",
    "env = Env('Static Wind Vector', num_envs = 5, default_wind_vector=torch.tensor([1.0,0.0,3.0]), rand_wind=True, max_speed=2)\n",
    "env.print_state()\n",
    "wing1 = AirFoil()\n",
    "glider = Aircraft(airfoil_list=[wing1])\n",
    "airfoil_list = [wing1]\n",
    "LearningToFly(env, airfoil_list)\n",
    "\n"
   ]
  },
  {
   "cell_type": "code",
   "execution_count": null,
   "id": "72daf7d5-2581-4d92-85f9-0de6b26351d9",
   "metadata": {},
   "outputs": [],
   "source": [
    "torch.rand((5,5))"
   ]
  },
  {
   "cell_type": "code",
   "execution_count": null,
   "id": "3ec01272-1518-4045-9845-72fe937839d6",
   "metadata": {},
   "outputs": [],
   "source": [
    "test = LiftingLine('Airfoil')"
   ]
  }
 ],
 "metadata": {
  "kernelspec": {
   "display_name": "Python 3",
   "language": "python",
   "name": "python3"
  },
  "language_info": {
   "codemirror_mode": {
    "name": "ipython",
    "version": 3
   },
   "file_extension": ".py",
   "mimetype": "text/x-python",
   "name": "python",
   "nbconvert_exporter": "python",
   "pygments_lexer": "ipython3",
   "version": "3.8.8"
  }
 },
 "nbformat": 4,
 "nbformat_minor": 5
}
